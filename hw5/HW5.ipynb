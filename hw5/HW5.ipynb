{
 "cells": [
  {
   "cell_type": "code",
   "execution_count": 65,
   "id": "2c1928ad",
   "metadata": {
    "colab": {
     "base_uri": "https://localhost:8080/"
    },
    "executionInfo": {
     "elapsed": 40906,
     "status": "ok",
     "timestamp": 1668067439806,
     "user": {
      "displayName": "賴虹竹",
      "userId": "01197025141102352049"
     },
     "user_tz": -480
    },
    "id": "2c1928ad",
    "outputId": "c1f8e152-3cd9-4e35-f5ff-6ea024c7ed1b"
   },
   "outputs": [
    {
     "name": "stdout",
     "output_type": "stream",
     "text": [
      "Epoch 1/10\n",
      "14/14 [==============================] - 4s 259ms/step - loss: 518.5552 - accuracy: 0.5214 - val_loss: 0.6919 - val_accuracy: 0.5397\n",
      "Epoch 2/10\n",
      "14/14 [==============================] - 3s 241ms/step - loss: 0.8560 - accuracy: 0.5083 - val_loss: 0.6924 - val_accuracy: 0.5119\n",
      "Epoch 3/10\n",
      "14/14 [==============================] - 3s 240ms/step - loss: 0.7026 - accuracy: 0.5131 - val_loss: 0.6924 - val_accuracy: 0.5159\n",
      "Epoch 4/10\n",
      "14/14 [==============================] - 3s 240ms/step - loss: 0.6895 - accuracy: 0.5286 - val_loss: 0.6924 - val_accuracy: 0.5238\n",
      "Epoch 5/10\n",
      "14/14 [==============================] - 3s 240ms/step - loss: 0.6842 - accuracy: 0.5417 - val_loss: 0.6920 - val_accuracy: 0.5198\n",
      "Epoch 6/10\n",
      "14/14 [==============================] - 3s 240ms/step - loss: 0.6786 - accuracy: 0.5381 - val_loss: 0.6891 - val_accuracy: 0.5556\n",
      "Epoch 7/10\n",
      "14/14 [==============================] - 3s 240ms/step - loss: 0.6687 - accuracy: 0.5607 - val_loss: 0.6767 - val_accuracy: 0.5992\n",
      "Epoch 8/10\n",
      "14/14 [==============================] - 3s 240ms/step - loss: 0.6370 - accuracy: 0.5857 - val_loss: 0.6122 - val_accuracy: 0.6905\n",
      "Epoch 9/10\n",
      "14/14 [==============================] - 3s 241ms/step - loss: 0.6224 - accuracy: 0.6393 - val_loss: 0.6119 - val_accuracy: 0.7063\n",
      "Epoch 10/10\n",
      "14/14 [==============================] - 3s 240ms/step - loss: 0.5733 - accuracy: 0.6917 - val_loss: 0.5740 - val_accuracy: 0.7103\n"
     ]
    },
    {
     "data": {
      "text/plain": [
       "<keras.callbacks.History at 0x7f4174b55310>"
      ]
     },
     "execution_count": 65,
     "metadata": {},
     "output_type": "execute_result"
    }
   ],
   "source": [
    "import numpy as np \n",
    "import pandas as pd \n",
    "import cv2\n",
    "import matplotlib.pyplot as plt\n",
    "import tensorflow as tf\n",
    "import os\n",
    "from tensorflow.keras.models import Sequential\n",
    "from tensorflow.keras.layers import Dense, Flatten, Dropout, Activation, Conv2D, MaxPooling2D\n",
    "from keras.models import load_model\n",
    "from sklearn.metrics import roc_curve, auc\n",
    "from sklearn.model_selection import train_test_split\n",
    "from sklearn.metrics import confusion_matrix\n",
    "\n",
    "train_path1=\"./train/African\"\n",
    "train_path2=\"./train/Asian\"\n",
    "test_path=\"./test\"\n",
    "x=[]\n",
    "y=[]\n",
    "test=[]\n",
    "id=[]\n",
    "\n",
    "#匯入資料\n",
    "for i in os.listdir(train_path1):\n",
    "    img=cv2.imread(os.path.join(train_path1,i))\n",
    "    img = cv2.resize(img,(250, 250))\n",
    "    x.append(img)\n",
    "    \n",
    "for i in os.listdir(train_path2):\n",
    "    img=cv2.imread(os.path.join(train_path2,i))\n",
    "    img = cv2.resize(img,(250, 250))\n",
    "    x.append(img)\n",
    "\n",
    "for i in os.listdir(train_path1):\n",
    "    y.append(1)\n",
    "    \n",
    "for i in os.listdir(train_path2):\n",
    "    y.append(0)\n",
    "    \n",
    "for i in os.listdir(test_path):\n",
    "    img=cv2.imread(os.path.join(test_path,i))\n",
    "    img = cv2.resize(img, (250, 250))\n",
    "    test.append(img)\n",
    "    id.append(i.split(\".\")[0])\n",
    "      \n",
    "x = np.array(x)\n",
    "y = np.array(y)    \n",
    "test = np.array(test) \n",
    "index=[i for i in range(len(x))]\n",
    "\n",
    "#打亂\n",
    "np.random.shuffle(index)\n",
    "x=x[index]\n",
    "y=y[index]\n",
    "\n",
    "#分割\n",
    "train_x, val_x, train_y, val_y = train_test_split(x, y, test_size = 0.3, random_state = 42)\n",
    "\n",
    "#模型\n",
    "model = Sequential()\n",
    "model.add(Conv2D(64,(3,3), activation = 'relu', input_shape = train_x.shape[1:]))\n",
    "model.add(Dropout(rate=0.25))\n",
    "model.add(MaxPooling2D(pool_size = (2,2)))\n",
    "model.add(Dropout(rate=0.25))\n",
    "model.add(Conv2D(64,(3,3), activation = 'relu'))\n",
    "model.add(Dropout(rate=0.25))\n",
    "model.add(MaxPooling2D(pool_size = (2,2)))\n",
    "model.add(Dropout(rate=0.25))\n",
    "model.add(Flatten())\n",
    "model.add(Dense(32, activation='relu'))\n",
    "model.add(Dense(1, activation='sigmoid'))\n",
    "model.compile(optimizer=\"adam\",\n",
    "              loss='binary_crossentropy',\n",
    "              metrics=['accuracy'])\n",
    "#model.summary()\n",
    "model.fit(x,y,epochs=10,batch_size=64,validation_data=(val_x, val_y))"
   ]
  },
  {
   "cell_type": "code",
   "execution_count": null,
   "id": "d7b4017a",
   "metadata": {},
   "outputs": [],
   "source": [
    "#train_loss與val_loss都有收斂，訓練情況良好"
   ]
  },
  {
   "cell_type": "code",
   "execution_count": 70,
   "id": "AmrEixcyZQ1M",
   "metadata": {
    "colab": {
     "base_uri": "https://localhost:8080/",
     "height": 318
    },
    "executionInfo": {
     "elapsed": 1285,
     "status": "ok",
     "timestamp": 1668068904394,
     "user": {
      "displayName": "賴虹竹",
      "userId": "01197025141102352049"
     },
     "user_tz": -480
    },
    "id": "AmrEixcyZQ1M",
    "outputId": "66082e36-4937-4034-a962-eb1dd2120ee4"
   },
   "outputs": [
    {
     "name": "stdout",
     "output_type": "stream",
     "text": [
      "8/8 [==============================] - 0s 33ms/step\n"
     ]
    },
    {
     "data": {
      "image/png": "[encoded data removed]",
      "text/plain": [
       "<Figure size 432x288 with 2 Axes>"
      ]
     },
     "metadata": {},
     "output_type": "display_data"
    }
   ],
   "source": [
    "#混淆矩陣\n",
    "predictions = (model.predict(val_x) > 0.5) \n",
    "confusion = confusion_matrix(val_y, predictions.reshape(-1))\n",
    "plt.imshow(confusion, interpolation='nearest', cmap=plt.cm.gray)\n",
    "plt.title('Confusion matrix')\n",
    "plt.colorbar()\n",
    "tick_marks = np.arange(2)\n",
    "plt.xticks(tick_marks, tick_marks)\n",
    "plt.yticks(tick_marks, tick_marks)\n",
    "plt.ylabel('True label')\n",
    "plt.xlabel('Predicted label')\n",
    "plt.show()"
   ]
  },
  {
   "cell_type": "code",
   "execution_count": 71,
   "id": "0_0Oo1qGabWr",
   "metadata": {
    "colab": {
     "base_uri": "https://localhost:8080/"
    },
    "executionInfo": {
     "elapsed": 475,
     "status": "ok",
     "timestamp": 1668068908098,
     "user": {
      "displayName": "賴虹竹",
      "userId": "01197025141102352049"
     },
     "user_tz": -480
    },
    "id": "0_0Oo1qGabWr",
    "outputId": "f9f1e9c7-c76b-4685-809a-3cad84bfa626"
   },
   "outputs": [
    {
     "name": "stdout",
     "output_type": "stream",
     "text": [
      "AUROC=0.71\n"
     ]
    }
   ],
   "source": [
    "#AUROC\n",
    "false_positive_rate, recall, thresholds = roc_curve(val_y, predictions.reshape(-1))  \n",
    "roc_auc = auc(false_positive_rate, recall)  \n",
    "print('AUROC=%0.2f' %roc_auc)\n",
    " \n",
    "model.save('elephant.h5')"
   ]
  },
  {
   "cell_type": "code",
   "execution_count": 72,
   "id": "GP4emr4Gb2nC",
   "metadata": {
    "colab": {
     "base_uri": "https://localhost:8080/"
    },
    "executionInfo": {
     "elapsed": 1135,
     "status": "ok",
     "timestamp": 1668069015290,
     "user": {
      "displayName": "賴虹竹",
      "userId": "01197025141102352049"
     },
     "user_tz": -480
    },
    "id": "GP4emr4Gb2nC",
    "outputId": "62e0ecd8-6bb1-46da-832d-5f1c52abf940"
   },
   "outputs": [
    {
     "name": "stdout",
     "output_type": "stream",
     "text": [
      "6/6 [==============================] - 0s 34ms/step\n"
     ]
    }
   ],
   "source": [
    "del model \n",
    "model = load_model('elephant.h5')\n",
    "predictions = model.predict(test)\n",
    "predicted_val = [int(round(p[0])) for p in predictions]\n",
    "submission_df = pd.DataFrame({'ID':id, 'result':predicted_val})\n",
    "submission_df.to_csv(\"elephant.csv\", index=False)"
   ]
  }
 ],
 "metadata": {
  "accelerator": "GPU",
  "colab": {
   "collapsed_sections": [],
   "provenance": []
  },
  "gpuClass": "standard",
  "kernelspec": {
   "display_name": "Python 3 (ipykernel)",
   "language": "python",
   "name": "python3"
  },
  "language_info": {
   "codemirror_mode": {
    "name": "ipython",
    "version": 3
   },
   "file_extension": ".py",
   "mimetype": "text/x-python",
   "name": "python",
   "nbconvert_exporter": "python",
   "pygments_lexer": "ipython3",
   "version": "3.7.13"
  }
 },
 "nbformat": 4,
 "nbformat_minor": 5
}
