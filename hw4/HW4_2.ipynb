{
 "cells": [
  {
   "cell_type": "code",
   "execution_count": 1,
   "id": "521bfd1b",
   "metadata": {},
   "outputs": [],
   "source": [
    "import numpy as np\n",
    "import pandas as pd\n",
    "from sklearn.preprocessing import LabelEncoder\n",
    "\n",
    "#from sklearn.preprocessing import category_encoders as ce\n",
    "\n",
    "df=pd.read_csv('HW4_creditcard.csv')\n",
    "y =df['Class'].values\n",
    "x = df.iloc[:,:-1]\n",
    "\n",
    "from sklearn.model_selection import train_test_split\n",
    "train_x, test_x, train_y, test_y = train_test_split(x, y, test_size = 0.3, random_state = 42)"
   ]
  },
  {
   "cell_type": "code",
   "execution_count": 2,
   "id": "cfe4cab7",
   "metadata": {},
   "outputs": [
    {
     "name": "stdout",
     "output_type": "stream",
     "text": [
      "\t~~~~~Decision Tree~~~~~\n",
      "Accuracy score:  \t99.42383037566259 %\n",
      "Precission score:\t84.31372549019608 %\n",
      "Recall Score:   \t83.22580645161291 %\n",
      "F1 score:       \t83.76623376623378 %\n"
     ]
    }
   ],
   "source": [
    "from sklearn.tree import DecisionTreeClassifier\n",
    "from sklearn.metrics import accuracy_score, confusion_matrix, precision_score, recall_score, f1_score\n",
    "\n",
    "modelt = DecisionTreeClassifier()\n",
    "modelt.fit(train_x,train_y)\n",
    "predict_y = modelt.predict(test_x)\n",
    "print(\"\\t~~~~~Decision Tree~~~~~\")\n",
    "print(\"Accuracy score:  \\t\" ,(accuracy_score(test_y, predict_y)*100),\" %\" ,sep='')\n",
    "print(\"Precission score:\\t\" ,(precision_score(test_y, predict_y)*100),\" %\" ,sep='')\n",
    "print(\"Recall Score:   \\t\" ,(recall_score(test_y, predict_y)*100),\" %\" ,sep='')\n",
    "print(\"F1 score:       \\t\" ,(f1_score(test_y, predict_y)*100),\" %\" ,sep='')"
   ]
  },
  {
   "cell_type": "code",
   "execution_count": 3,
   "id": "5bfc8ef4",
   "metadata": {},
   "outputs": [],
   "source": [
    "import tensorflow.keras as tk\n",
    "from tensorflow.keras import layers\n",
    "from keras.layers import Input,Dense,Dropout,Activation\n",
    "from keras.models import Sequential\n",
    "from tensorflow.keras.utils import to_categorical\n",
    "from sklearn.metrics import f1_score, recall_score, precision_score\n",
    "\n",
    "train_x_np = train_x.to_numpy()\n",
    "test_x_np = test_x.to_numpy()\n",
    "train_y_np = train_y\n",
    "test_y_np = test_y\n",
    "\n",
    "\n",
    "\n",
    "model = Sequential()\n",
    "model.add(Dense(5000,activation='relu',input_shape=(None,30)))\n",
    "model.add(Dropout(0.2))\n",
    "model.add(Dense(50,activation='relu'))\n",
    "model.add(Dropout(0.5))\n",
    "model.add(Dense(2,activation='softmax'))\n",
    "\n",
    "\n"
   ]
  },
  {
   "cell_type": "code",
   "execution_count": 4,
   "id": "207ae413",
   "metadata": {},
   "outputs": [
    {
     "name": "stdout",
     "output_type": "stream",
     "text": [
      "WARNING:tensorflow:Model was constructed with shape (None, None, 30) for input KerasTensor(type_spec=TensorSpec(shape=(None, None, 30), dtype=tf.float32, name='dense_input'), name='dense_input', description=\"created by layer 'dense_input'\"), but it was called on an input with incompatible shape (None, 30).\n",
      "WARNING:tensorflow:Model was constructed with shape (None, None, 30) for input KerasTensor(type_spec=TensorSpec(shape=(None, None, 30), dtype=tf.float32, name='dense_input'), name='dense_input', description=\"created by layer 'dense_input'\"), but it was called on an input with incompatible shape (None, 30).\n",
      "633/633 [==============================] - 3s 4ms/step - loss: 39.0576 - accuracy: 0.9818\n",
      "WARNING:tensorflow:Model was constructed with shape (None, None, 30) for input KerasTensor(type_spec=TensorSpec(shape=(None, None, 30), dtype=tf.float32, name='dense_input'), name='dense_input', description=\"created by layer 'dense_input'\"), but it was called on an input with incompatible shape (None, 30).\n",
      "272/272 [==============================] - 0s 1ms/step - loss: 0.2843 - accuracy: 0.9821\n",
      "272/272 [==============================] - 0s 1ms/step - loss: 0.2843 - accuracy: 0.9821\n",
      "\u001b[34mloss function :  0.284307062625885\n",
      "\u001b[34maccuracy :  0.9821387529373169\n"
     ]
    }
   ],
   "source": [
    "from colorama import Fore,Style\n",
    "model.compile(optimizer='Adam',\n",
    "             loss='sparse_categorical_crossentropy',\n",
    "             metrics=['accuracy'])\n",
    "model.fit(train_x_np,train_y_np)\n",
    "loss = model.evaluate(test_x_np,test_y_np)[0]\n",
    "acc = model.evaluate(test_x_np,test_y_np)[1]\n",
    "print(Fore.BLUE+\"loss function : \", loss)\n",
    "print(Fore.BLUE+\"accuracy : \", acc)"
   ]
  },
  {
   "cell_type": "code",
   "execution_count": 5,
   "id": "e64361a5",
   "metadata": {},
   "outputs": [
    {
     "name": "stdout",
     "output_type": "stream",
     "text": [
      "Class為1的資料比數:  492\n",
      "Class為0的資料比數:  28432\n",
      "1:0比率為:  0.01730444569499156\n"
     ]
    }
   ],
   "source": [
    "print(\"Class為1的資料比數: \",df[df['Class']==1].count()[0])\n",
    "print(\"Class為0的資料比數: \",df[df['Class']==0].count()[0])\n",
    "print(\"1:0比率為: \",df[df['Class']==1].count()[0]/df[df['Class']==0].count()[0])"
   ]
  },
  {
   "cell_type": "code",
   "execution_count": 6,
   "id": "1acc8e04",
   "metadata": {},
   "outputs": [
    {
     "name": "stdout",
     "output_type": "stream",
     "text": [
      "~~~~~Decision Tree(modified)~~~~~\n",
      "Accuracy score:  \t99.41230698317585 %\n",
      "Precission score:\t83.76623376623377 %\n",
      "Recall Score:   \t83.22580645161291 %\n",
      "F1 score:       \t83.49514563106796 %\n"
     ]
    }
   ],
   "source": [
    "modelt = DecisionTreeClassifier(class_weight={0:1,1:10})\n",
    "modelt.fit(train_x,train_y)\n",
    "predict_y = modelt.predict(test_x)\n",
    "print(\"~~~~~Decision Tree(modified)~~~~~\")\n",
    "print(\"Accuracy score:  \\t\" ,(accuracy_score(test_y, predict_y)*100),\" %\" ,sep='')\n",
    "print(\"Precission score:\\t\" ,(precision_score(test_y, predict_y)*100),\" %\" ,sep='')\n",
    "print(\"Recall Score:   \\t\" ,(recall_score(test_y, predict_y)*100),\" %\" ,sep='')\n",
    "print(\"F1 score:       \\t\" ,(f1_score(test_y, predict_y)*100),\" %\" ,sep='')"
   ]
  },
  {
   "cell_type": "markdown",
   "id": "0e160f56",
   "metadata": {},
   "source": [
    "我們發現target在訓練集中的**<font color='red'>類別分布不太平衡<font>**，可能對預測準確度有影響。<br>\n",
    "因此在新的decision tree中調整class_weight參數，經過多次測試，得到**<font color='red'>1:10的類別權重<font>**效果最佳"
   ]
  },
  {
   "cell_type": "code",
   "execution_count": 10,
   "id": "4df031d0",
   "metadata": {},
   "outputs": [
    {
     "name": "stdout",
     "output_type": "stream",
     "text": [
      "633/633 [==============================] - 3s 4ms/step - loss: 0.5299 - accuracy: 0.9834\n",
      "272/272 [==============================] - 0s 1ms/step - loss: 0.1177 - accuracy: 0.9821\n",
      "272/272 [==============================] - 0s 1ms/step - loss: 0.1177 - accuracy: 0.9821\n",
      "\u001b[34mloss function :  0.11771182715892792\n",
      "\u001b[34maccuracy :  0.9821387529373169\n"
     ]
    }
   ],
   "source": [
    "model.fit(train_x_np,train_y_np,class_weight={0:1,1:10})\n",
    "loss = model.evaluate(test_x_np,test_y_np)[0]\n",
    "acc = model.evaluate(test_x_np,test_y_np)[1]\n",
    "\n",
    "print(Fore.BLUE+\"loss function : \", loss)\n",
    "print(Fore.BLUE+\"accuracy : \", acc)\n"
   ]
  },
  {
   "cell_type": "markdown",
   "id": "783a0bec",
   "metadata": {},
   "source": [
    "並且對於神經網路模型也進行類別權重的調整，但是經過多次調整，發現類別權重的改變似乎**<font color='red'>僅能減少loss function<font>**，卻難以提高準確度。"
   ]
  },
  {
   "cell_type": "code",
   "execution_count": 11,
   "id": "7269a207",
   "metadata": {},
   "outputs": [
    {
     "name": "stdout",
     "output_type": "stream",
     "text": [
      "\t~~~~~Decision Tree~~~~~\n",
      "Accuracy score:  \t98.8015671813782 %\n",
      "Precission score:\t61.97183098591549 %\n",
      "Recall Score:   \t85.16129032258064 %\n",
      "F1 score:       \t71.7391304347826 %\n"
     ]
    }
   ],
   "source": [
    "from imblearn.over_sampling import SMOTE\n",
    "res_x,res_y = SMOTE(random_state=42).fit_resample(train_x,train_y)\n",
    "modelt = DecisionTreeClassifier()\n",
    "modelt.fit(res_x,res_y)\n",
    "predict_y = modelt.predict(test_x)\n",
    "print(\"~~~~~Decision Tree(imcremented)~~~~~\")\n",
    "print(\"Accuracy score:  \\t\" ,(accuracy_score(test_y, predict_y)*100),\" %\" ,sep='')\n",
    "print(\"Precission score:\\t\" ,(precision_score(test_y, predict_y)*100),\" %\" ,sep='')\n",
    "print(\"Recall Score:   \\t\" ,(recall_score(test_y, predict_y)*100),\" %\" ,sep='')\n",
    "print(\"F1 score:       \\t\" ,(f1_score(test_y, predict_y)*100),\" %\" ,sep='')"
   ]
  },
  {
   "cell_type": "code",
   "execution_count": 12,
   "id": "2b3696b4",
   "metadata": {},
   "outputs": [
    {
     "name": "stdout",
     "output_type": "stream",
     "text": [
      "WARNING:tensorflow:Model was constructed with shape (None, None, 30) for input KerasTensor(type_spec=TensorSpec(shape=(None, None, 30), dtype=tf.float32, name='dense_input'), name='dense_input', description=\"created by layer 'dense_input'\"), but it was called on an input with incompatible shape (None, 30).\n",
      "1245/1245 [==============================] - 7s 4ms/step - loss: 0.9963 - accuracy: 0.5000\n",
      "272/272 [==============================] - 0s 1ms/step - loss: 0.4196 - accuracy: 0.9821\n",
      "272/272 [==============================] - 0s 1ms/step - loss: 0.4196 - accuracy: 0.9821\n",
      "\u001b[34mloss function :  0.4196315109729767\n",
      "\u001b[34maccuracy :  0.9821387529373169\n"
     ]
    }
   ],
   "source": [
    "res_x_np = res_x.to_numpy()\n",
    "res_y_np = res_y\n",
    "model.fit(res_x_np,res_y_np)\n",
    "loss = model.evaluate(test_x_np,test_y_np)[0]\n",
    "acc = model.evaluate(test_x_np,test_y_np)[1]\n",
    "\n",
    "print(Fore.BLUE+\"loss function : \", loss)\n",
    "print(Fore.BLUE+\"accuracy : \", acc)\n"
   ]
  },
  {
   "cell_type": "markdown",
   "id": "b68a3ebc",
   "metadata": {},
   "source": [
    "除了調整類別權重，我們也嘗試使用SMOTE所提供的數據合併功能。<br>\n",
    "複製將小部分相似的數據，達到數遽增量的效果，來減少類別權重的不平衡。<br>\n",
    "但是**<font color='red'>測試結果卻很不顯著，過度的增量數據，反而降低預測的準確度<font>**。"
   ]
  },
  {
   "cell_type": "code",
   "execution_count": null,
   "id": "c80f63bb",
   "metadata": {},
   "outputs": [],
   "source": []
  },
  {
   "cell_type": "code",
   "execution_count": null,
   "id": "309b9dcd",
   "metadata": {},
   "outputs": [],
   "source": []
  }
 ],
 "metadata": {
  "kernelspec": {
   "display_name": "Python 3 (ipykernel)",
   "language": "python",
   "name": "python3"
  },
  "language_info": {
   "codemirror_mode": {
    "name": "ipython",
    "version": 3
   },
   "file_extension": ".py",
   "mimetype": "text/x-python",
   "name": "python",
   "nbconvert_exporter": "python",
   "pygments_lexer": "ipython3",
   "version": "3.9.12"
  }
 },
 "nbformat": 4,
 "nbformat_minor": 5
}
